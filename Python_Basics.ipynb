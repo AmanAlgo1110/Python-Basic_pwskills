{
  "nbformat": 4,
  "nbformat_minor": 0,
  "metadata": {
    "colab": {
      "provenance": []
    },
    "kernelspec": {
      "name": "python3",
      "display_name": "Python 3"
    },
    "language_info": {
      "name": "python"
    }
  },
  "cells": [
    {
      "cell_type": "markdown",
      "source": [
        "Practical Questions:-"
      ],
      "metadata": {
        "id": "mkt8J5gfigry"
      }
    },
    {
      "cell_type": "code",
      "source": [
        "# 1. Write a Python program to print \"Hello,World!\"\n",
        "print('\"Hello,World!\"');"
      ],
      "metadata": {
        "colab": {
          "base_uri": "https://localhost:8080/"
        },
        "id": "BlC3_t_ChuqQ",
        "outputId": "7e76c5c4-1d5d-41c8-a126-80243802b2cc"
      },
      "execution_count": 1,
      "outputs": [
        {
          "output_type": "stream",
          "name": "stdout",
          "text": [
            "\"Hello,World!\"\n"
          ]
        }
      ]
    },
    {
      "cell_type": "code",
      "source": [
        "# 2. Write a Python program that displays your name and age\n",
        "print(\"Hi Sir , this is  Aman & I just Crossed 23\");"
      ],
      "metadata": {
        "colab": {
          "base_uri": "https://localhost:8080/"
        },
        "id": "UzXXvlZOiqfe",
        "outputId": "bf75c2e3-5740-4e73-8279-243143a4f222"
      },
      "execution_count": 2,
      "outputs": [
        {
          "output_type": "stream",
          "name": "stdout",
          "text": [
            "Hi Sir , this is  Aman & I just Crossed 23\n"
          ]
        }
      ]
    },
    {
      "cell_type": "code",
      "source": [
        "# 3. Write code to print all the pre-defined keywords in Python using the keyword library\n",
        "help('keywords')"
      ],
      "metadata": {
        "colab": {
          "base_uri": "https://localhost:8080/"
        },
        "id": "TzMbPhxSjJK9",
        "outputId": "cf353bad-2136-4205-c625-bf75d318ca12"
      },
      "execution_count": 10,
      "outputs": [
        {
          "output_type": "stream",
          "name": "stdout",
          "text": [
            "\n",
            "Here is a list of the Python keywords.  Enter any keyword to get more help.\n",
            "\n",
            "False               class               from                or\n",
            "None                continue            global              pass\n",
            "True                def                 if                  raise\n",
            "and                 del                 import              return\n",
            "as                  elif                in                  try\n",
            "assert              else                is                  while\n",
            "async               except              lambda              with\n",
            "await               finally             nonlocal            yield\n",
            "break               for                 not                 \n",
            "\n"
          ]
        }
      ]
    },
    {
      "cell_type": "code",
      "source": [
        "# 4. Write a program that checks if a given word is a Python keyword.\n",
        "import keyword\n",
        "given_word=input(\"Enter the Keyword\");\n",
        "if(given_word  in keyword.kwlist):\n",
        "  print(\"Yes This is A keyword\");\n",
        "else:\n",
        "  print(\"You Are Wrong , This is not a keyword\");\n"
      ],
      "metadata": {
        "colab": {
          "base_uri": "https://localhost:8080/"
        },
        "id": "K5ocqM0-k2BF",
        "outputId": "562bfb3b-fd33-431b-edbc-5f40d55ed758"
      },
      "execution_count": 13,
      "outputs": [
        {
          "output_type": "stream",
          "name": "stdout",
          "text": [
            "Enter the Keywordbreak\n",
            "Yes This is A keyword\n"
          ]
        }
      ]
    },
    {
      "cell_type": "code",
      "source": [
        "'''5. Create a list and tuple in Python, and demonstrate how attempting to change an element works differently\n",
        "for each.'''\n",
        "#For List\n",
        "demo_list=[\"Aman\",12,False,None,34.8];\n",
        "print(demo_list);\n",
        "print(\"After Changing the Element in The list\");\n",
        "demo_list[0]=\"Alakh Pandey Sir\";\n",
        "print(demo_list);\n",
        "#For Tuple\n",
        "demo_tuple=(\"Aman\",12,False,None,34.8);\n",
        "demo_tuple[0]=\"Alakh Pandey Sir\";\n",
        "print(demo_tuple)\n",
        "#As List Are mutable we can change the item within it.\n",
        "#But As Tuple Are imputable we cant change the item within it .\n"
      ],
      "metadata": {
        "colab": {
          "base_uri": "https://localhost:8080/",
          "height": 263
        },
        "id": "zTWNZI-Jmv1H",
        "outputId": "9c14b9a6-62ac-46c6-881a-c7d2575bf0c1"
      },
      "execution_count": 18,
      "outputs": [
        {
          "output_type": "stream",
          "name": "stdout",
          "text": [
            "['Aman', 12, False, None, 34.8]\n",
            "After Changing the Element in The list\n",
            "['Alakh Pandey Sir', 12, False, None, 34.8]\n"
          ]
        },
        {
          "output_type": "error",
          "ename": "TypeError",
          "evalue": "'tuple' object does not support item assignment",
          "traceback": [
            "\u001b[0;31m---------------------------------------------------------------------------\u001b[0m",
            "\u001b[0;31mTypeError\u001b[0m                                 Traceback (most recent call last)",
            "\u001b[0;32m<ipython-input-18-87535d3abb0e>\u001b[0m in \u001b[0;36m<cell line: 0>\u001b[0;34m()\u001b[0m\n\u001b[1;32m      9\u001b[0m \u001b[0;31m#For Tuple\u001b[0m\u001b[0;34m\u001b[0m\u001b[0;34m\u001b[0m\u001b[0m\n\u001b[1;32m     10\u001b[0m \u001b[0mdemo_tuple\u001b[0m\u001b[0;34m=\u001b[0m\u001b[0;34m(\u001b[0m\u001b[0;34m\"Aman\"\u001b[0m\u001b[0;34m,\u001b[0m\u001b[0;36m12\u001b[0m\u001b[0;34m,\u001b[0m\u001b[0;32mFalse\u001b[0m\u001b[0;34m,\u001b[0m\u001b[0;32mNone\u001b[0m\u001b[0;34m,\u001b[0m\u001b[0;36m34.8\u001b[0m\u001b[0;34m)\u001b[0m\u001b[0;34m;\u001b[0m\u001b[0;34m\u001b[0m\u001b[0;34m\u001b[0m\u001b[0m\n\u001b[0;32m---> 11\u001b[0;31m \u001b[0mdemo_tuple\u001b[0m\u001b[0;34m[\u001b[0m\u001b[0;36m0\u001b[0m\u001b[0;34m]\u001b[0m\u001b[0;34m=\u001b[0m\u001b[0;34m\"sohan\"\u001b[0m\u001b[0;34m;\u001b[0m\u001b[0;34m\u001b[0m\u001b[0;34m\u001b[0m\u001b[0m\n\u001b[0m\u001b[1;32m     12\u001b[0m \u001b[0mprint\u001b[0m\u001b[0;34m(\u001b[0m\u001b[0mdemo_tuple\u001b[0m\u001b[0;34m)\u001b[0m\u001b[0;34m\u001b[0m\u001b[0;34m\u001b[0m\u001b[0m\n\u001b[1;32m     13\u001b[0m \u001b[0;34m\u001b[0m\u001b[0m\n",
            "\u001b[0;31mTypeError\u001b[0m: 'tuple' object does not support item assignment"
          ]
        }
      ]
    },
    {
      "cell_type": "code",
      "source": [
        " # 6. Write a function to demonstrate the behavior of mutable and immutable arguments."
      ],
      "metadata": {
        "id": "P84N8GW-p-AA"
      },
      "execution_count": null,
      "outputs": []
    },
    {
      "cell_type": "code",
      "source": [
        "# 7. Write a program that performs basic arithmetic operations on two user-input numbers.\n",
        "first_number=(int(input(\"Enter the first number: \")));\n",
        "second_number=(int(input(\"Enter the second number: \")));\n",
        "operator=input(\"Enter the operator: \");\n",
        "if(operator==\"+\"):\n",
        "  print(first_number+second_number);\n",
        "elif(operator==\"-\"):\n",
        "  print(first_number-second_number);\n",
        "elif(operator==\"/\"):\n",
        "  print(first_number/second_number);\n",
        "elif(operator==\"*\"):\n",
        "  print(first_number*second_number);\n",
        "else:\n",
        "  print(\"Invalid Operator\");"
      ],
      "metadata": {
        "colab": {
          "base_uri": "https://localhost:8080/"
        },
        "id": "pKDFgdJiqDr6",
        "outputId": "e0d86632-c2a8-4d86-e2ad-88ee7f2b662b"
      },
      "execution_count": 22,
      "outputs": [
        {
          "output_type": "stream",
          "name": "stdout",
          "text": [
            "Enter the first number: 34\n",
            "Enter the second number: 2\n",
            "Enter the operator: *\n",
            "68\n"
          ]
        }
      ]
    },
    {
      "cell_type": "code",
      "source": [
        "# 8. Write a program to demonstrate the use of logical operators.\n",
        "age=int(input(\"Enter Your Age: \"));\n",
        "if(age>=18 and age<=60):\n",
        "  print(\"You Can Drive\");\n",
        "else:\n",
        "  print(\"You cant Drive\");"
      ],
      "metadata": {
        "colab": {
          "base_uri": "https://localhost:8080/"
        },
        "id": "wWS_m7jVs7pO",
        "outputId": "a8ee7678-9394-46a1-842f-d34856d61bc0"
      },
      "execution_count": 25,
      "outputs": [
        {
          "output_type": "stream",
          "name": "stdout",
          "text": [
            "Enter Your Age: 45\n",
            "You Can Drive\n"
          ]
        }
      ]
    },
    {
      "cell_type": "code",
      "source": [
        "# 9. Write a Python program to convert user input from string to integer, float, and boolean types\n",
        "str_num=\"12\";\n",
        "print(type(str_num));\n",
        "int_num=int(str_num);\n",
        "print(type(int_num));\n",
        "bool_num=bool(str_num);\n",
        "print(bool_num);"
      ],
      "metadata": {
        "colab": {
          "base_uri": "https://localhost:8080/"
        },
        "id": "UQMR5PMwuEFC",
        "outputId": "fac99cd4-fefa-4b38-c305-2bb9e3e9ea46"
      },
      "execution_count": 28,
      "outputs": [
        {
          "output_type": "stream",
          "name": "stdout",
          "text": [
            "<class 'str'>\n",
            "<class 'int'>\n",
            "True\n"
          ]
        }
      ]
    },
    {
      "cell_type": "code",
      "source": [
        "# 10. Write code to demonstrate type casting with list elements.\n",
        "demo_list=[12,\"Aman\",None,3.5,False];\n",
        "print(type(demo_list))\n",
        "demo_tuple=tuple(demo_list);\n",
        "print(demo_tuple)\n",
        "print(type(demo_tuple))"
      ],
      "metadata": {
        "colab": {
          "base_uri": "https://localhost:8080/"
        },
        "id": "QF8IbZqLu_iv",
        "outputId": "3756ea00-a5e1-4c87-e84f-430f4f50f76a"
      },
      "execution_count": 31,
      "outputs": [
        {
          "output_type": "stream",
          "name": "stdout",
          "text": [
            "<class 'list'>\n",
            "(12, 'Aman', None, 3.5, False)\n",
            "<class 'tuple'>\n"
          ]
        }
      ]
    },
    {
      "cell_type": "code",
      "source": [
        "# 11. Write a program that checks if a number is positive, negative, or zero.\n",
        "num=int(input(\"Enter a number: \"));\n",
        "if(num>0):\n",
        "  print(\"the number is positive\");\n",
        "elif(num<0):\n",
        "  print(\"the number is negetive\");\n",
        "elif(num==0):\n",
        "  print(\"the number is Zero\");\n",
        "else:\n",
        "  print(\"Invalid Number\");"
      ],
      "metadata": {
        "colab": {
          "base_uri": "https://localhost:8080/"
        },
        "id": "cS2kKP_NvqXy",
        "outputId": "fe9bd326-3991-4395-9fb7-a9a473fac074"
      },
      "execution_count": 35,
      "outputs": [
        {
          "output_type": "stream",
          "name": "stdout",
          "text": [
            "Enter a number: 0\n",
            "the number is Zero\n"
          ]
        }
      ]
    },
    {
      "cell_type": "code",
      "source": [
        "# 12. Write a for loop to print numbers from 1 to 10\n",
        "for i in range(1,11):\n",
        "  print(i,end=\" \");"
      ],
      "metadata": {
        "colab": {
          "base_uri": "https://localhost:8080/"
        },
        "id": "tVDF0XCjwb-L",
        "outputId": "cddeb9ab-94ad-4c81-ae35-6f00ad2bd8d7"
      },
      "execution_count": 38,
      "outputs": [
        {
          "output_type": "stream",
          "name": "stdout",
          "text": [
            "1 2 3 4 5 6 7 8 9 10 "
          ]
        }
      ]
    },
    {
      "cell_type": "code",
      "source": [
        "# 13. Write a Python program to find the sum of all even numbers between 1 and 50.\n",
        "sum=0;\n",
        "for i in range(1,51):\n",
        "  if(i%2==0):\n",
        "    sum+=i;\n",
        "  else:\n",
        "    continue;\n",
        "print(sum);\n"
      ],
      "metadata": {
        "colab": {
          "base_uri": "https://localhost:8080/"
        },
        "id": "cxphiDSSw0CZ",
        "outputId": "08699318-9e0b-4f68-cf55-29eb8d1d1b4e"
      },
      "execution_count": 39,
      "outputs": [
        {
          "output_type": "stream",
          "name": "stdout",
          "text": [
            "650\n"
          ]
        }
      ]
    },
    {
      "cell_type": "code",
      "source": [
        "# 14. Write a program to reverse a string using a while loop.\n",
        "demo_str=input(\"Enter the string: \");\n",
        "rev_str=\"\";\n",
        "demo_index=len(demo_str)-1\n",
        "while (demo_index>=0):\n",
        "  rev_str+=demo_str[demo_index];\n",
        "  demo_index-=1;\n",
        "print(rev_str);\n",
        "\n",
        "\n"
      ],
      "metadata": {
        "colab": {
          "base_uri": "https://localhost:8080/"
        },
        "id": "RDN3bZlmxtqQ",
        "outputId": "91328b85-2851-4e66-c8ee-733f0f3fa2c7"
      },
      "execution_count": 41,
      "outputs": [
        {
          "output_type": "stream",
          "name": "stdout",
          "text": [
            "Enter the string: skaman\n",
            "namaks\n"
          ]
        }
      ]
    },
    {
      "cell_type": "markdown",
      "source": [],
      "metadata": {
        "id": "78rpW8WJk0cB"
      }
    },
    {
      "cell_type": "code",
      "source": [
        "# 15. Write a Python program to calculate the factorial of a number provided by the user using a while loop.\n",
        "fact_num=int(input(\"Enter the number You want to get the factorial: \"));\n",
        "fact_result=1;\n",
        "while (fact_num>=1):\n",
        "  fact_result*=fact_num;\n",
        "  fact_num-=1;\n",
        "print(fact_result);\n"
      ],
      "metadata": {
        "colab": {
          "base_uri": "https://localhost:8080/"
        },
        "id": "Ng-QwlCA0XH0",
        "outputId": "2b288b85-fed6-46b9-b80f-4ea5424fb4fa"
      },
      "execution_count": 45,
      "outputs": [
        {
          "output_type": "stream",
          "name": "stdout",
          "text": [
            "Enter the number You want to get the factorial: 6\n",
            "720\n"
          ]
        }
      ]
    },
    {
      "cell_type": "markdown",
      "source": [
        "1. What is Python, and why is it popular?\n",
        "-->  Python is an interpreted, object-oriented, high-level programming language, it is popular because it is very easy to use , used by maximum industries.\n",
        "2. What is an interpreter in Python?\n",
        "--> An interpreter is a special type of programme that reads and runs the code line by line .\n",
        "3. What are pre-defined keywords in Python?\n",
        "--> Predefined keywords are special words that have a fixed meaning in Python. one cannot use them as variable names, function names, or anything else.\n",
        "4. Can keywords be used as variable names?\n",
        "--> No keyword cant be used .\n",
        "5. What is mutability in Python?\n",
        "--> Mutability means whether an object can be changed after it's created.\n",
        "6. Why are lists mutable, but tuples are immutable ?\n",
        "--> because the elemnts in list can be changed after it is created but in tuple one cant change the elements within it .\n",
        "7. What is the difference between “==” and “is” operators in Python?\n",
        "--> == is a comparison operator where \"is\" is a identity operator .\n",
        "8.  What are logical operators in Python?\n",
        "--> and , or , not are called as a logical operator .\n",
        "9. What is type casting in Python ?\n",
        "--> typecasting is defined as the change of datatypes in python .\n",
        "10. What is the difference between implicit and explicit type casting ?\n",
        "--> in implicit typecasting python detect the datatype of a value by itself , but in explicit typecasting we change the datatype by explicitely .\n",
        "11. What is the purpose of conditional statements in Python ?\n",
        "-->Conditional statements are used to make decisions in your program.\n",
        "12. How does the elif statement work?\n",
        "-->elif statement is in between the else and is statement and if if statement is not true then it goes for elif .\n",
        "13. What is the difference between for and while loops?\n",
        "--> for loop is used when you know how many times to repeat. while loop is used when we dont know  the time of repetation it breakes when a contdition false .\n",
        "14.  Describe a scenario where a while loop is more suitable than a for loop.\n",
        "--> when the number of repetation is not known , but the condition is known when the loop has to be broken .\n",
        "\n",
        "\n"
      ],
      "metadata": {
        "id": "WB0uomXx1axy"
      }
    },
    {
      "cell_type": "markdown",
      "source": [],
      "metadata": {
        "id": "NKVqujl68x3s"
      }
    }
  ]
}